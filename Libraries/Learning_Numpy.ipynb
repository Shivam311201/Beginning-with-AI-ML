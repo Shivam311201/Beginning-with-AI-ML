{
  "nbformat": 4,
  "nbformat_minor": 0,
  "metadata": {
    "colab": {
      "provenance": [],
      "authorship_tag": "ABX9TyPXpSup86FJ5W3hudePRG/j",
      "include_colab_link": true
    },
    "kernelspec": {
      "name": "python3",
      "display_name": "Python 3"
    },
    "language_info": {
      "name": "python"
    }
  },
  "cells": [
    {
      "cell_type": "markdown",
      "metadata": {
        "id": "view-in-github",
        "colab_type": "text"
      },
      "source": [
        "<a href=\"https://colab.research.google.com/github/Shivam311201/Beginning-with-AI-ML/blob/master/Libraries/Learning_Numpy.ipynb\" target=\"_parent\"><img src=\"https://colab.research.google.com/assets/colab-badge.svg\" alt=\"Open In Colab\"/></a>"
      ]
    },
    {
      "cell_type": "code",
      "execution_count": 13,
      "metadata": {
        "id": "D84iFkZXggbK"
      },
      "outputs": [],
      "source": [
        "import numpy as np\n",
        "import sys\n",
        "import time"
      ]
    },
    {
      "cell_type": "code",
      "source": [
        "arr = np.array([4,1,2,3])\n",
        "arr[0]"
      ],
      "metadata": {
        "colab": {
          "base_uri": "https://localhost:8080/"
        },
        "id": "xRKI921hgqkT",
        "outputId": "930bf070-c9ff-436e-ef53-a789584f64b2"
      },
      "execution_count": 4,
      "outputs": [
        {
          "output_type": "execute_result",
          "data": {
            "text/plain": [
              "4"
            ]
          },
          "metadata": {},
          "execution_count": 4
        }
      ]
    },
    {
      "cell_type": "markdown",
      "source": [
        "##### Despite having python list, we need numpy array:\n",
        "\n",
        "1.   Less Memory as python list refer to objects, thus had greater size\n",
        "2.   Less time and more convenient\n",
        "\n"
      ],
      "metadata": {
        "id": "0kGlxRj4h-SQ"
      }
    },
    {
      "cell_type": "code",
      "source": [
        "a=np.arange(100)\n",
        "print(a.size*a.itemsize)\n",
        "\n",
        "a1=range(100)\n",
        "print(sys.getsizeof(1)*len(a1))"
      ],
      "metadata": {
        "colab": {
          "base_uri": "https://localhost:8080/"
        },
        "id": "rIRBKF3WhJw1",
        "outputId": "95b843fb-703f-47ed-ed9a-029fd03010f5"
      },
      "execution_count": 10,
      "outputs": [
        {
          "output_type": "stream",
          "name": "stdout",
          "text": [
            "800\n",
            "2800\n"
          ]
        }
      ]
    },
    {
      "cell_type": "code",
      "source": [
        "size=100000\n",
        "l1 = range(size)\n",
        "l2 = range(size)\n",
        "\n",
        "l3 = np.arange(size)\n",
        "l4 = np.arange(size)\n",
        "\n",
        "# Python List\n",
        "start=time.time()\n",
        "result=[(x+y) for x,y in zip(l1,l2)]\n",
        "print(\"Time taken: \" , (time.time()-start)*1000)\n",
        "\n",
        "# Numpy List\n",
        "start=time.time()\n",
        "result=l3+l4\n",
        "print(\"Time taken: \" , (time.time()-start)*1000)"
      ],
      "metadata": {
        "colab": {
          "base_uri": "https://localhost:8080/"
        },
        "id": "2oarL_AYi15X",
        "outputId": "74eee0d8-0817-4dc2-8155-e938dfb390fa"
      },
      "execution_count": 15,
      "outputs": [
        {
          "output_type": "stream",
          "name": "stdout",
          "text": [
            "Time taken:  15.78974723815918\n",
            "Time taken:  2.9571056365966797\n"
          ]
        }
      ]
    },
    {
      "cell_type": "code",
      "source": [
        "a3=np.array([1,2,3])\n",
        "a4=np.array([4,5,6])\n",
        "\n",
        "print(a3+a4)\n",
        "print(a3*a4)"
      ],
      "metadata": {
        "colab": {
          "base_uri": "https://localhost:8080/"
        },
        "id": "lKDFUKmBj5EX",
        "outputId": "b12ae13b-ea59-4c36-c72d-a5d565fdb64c"
      },
      "execution_count": 20,
      "outputs": [
        {
          "output_type": "stream",
          "name": "stdout",
          "text": [
            "[5 7 9]\n",
            "[ 4 10 18]\n"
          ]
        }
      ]
    },
    {
      "cell_type": "code",
      "source": [
        "ndarray=np.array([[1,2],[3,4],[5,6]])\n",
        "array2=np.array([[1,2],[3,4],[5,6]])\n",
        "ndarray.itemsize # byte size of each element"
      ],
      "metadata": {
        "colab": {
          "base_uri": "https://localhost:8080/"
        },
        "id": "xVmA4mpPkZcU",
        "outputId": "4086fa9f-9cee-4c5e-f21f-0c2d0260444c"
      },
      "execution_count": 46,
      "outputs": [
        {
          "output_type": "execute_result",
          "data": {
            "text/plain": [
              "8"
            ]
          },
          "metadata": {},
          "execution_count": 46
        }
      ]
    },
    {
      "cell_type": "code",
      "source": [
        "print(ndarray.ndim) # Dimension of inner vector\n",
        "print(ndarray.dtype)\n",
        "print(ndarray.size)\n",
        "print(ndarray.shape) # Dimension nxm"
      ],
      "metadata": {
        "colab": {
          "base_uri": "https://localhost:8080/"
        },
        "id": "BBweoWN5kv9i",
        "outputId": "a28b3ef1-de2e-45c6-f1d5-5376d5c6b70f"
      },
      "execution_count": 30,
      "outputs": [
        {
          "output_type": "stream",
          "name": "stdout",
          "text": [
            "2\n",
            "int64\n",
            "6\n",
            "(3, 2)\n"
          ]
        }
      ]
    },
    {
      "cell_type": "code",
      "source": [
        "ndarrayF=np.array([[1,2],[3,4],[5,6]],dtype=np.float64)\n",
        "ndarrayF"
      ],
      "metadata": {
        "colab": {
          "base_uri": "https://localhost:8080/"
        },
        "id": "Wo0886OmlIUp",
        "outputId": "2ceac3a7-d4d2-4f7a-c688-574bf50a56ad"
      },
      "execution_count": 27,
      "outputs": [
        {
          "output_type": "execute_result",
          "data": {
            "text/plain": [
              "array([[1., 2.],\n",
              "       [3., 4.],\n",
              "       [5., 6.]])"
            ]
          },
          "metadata": {},
          "execution_count": 27
        }
      ]
    },
    {
      "cell_type": "code",
      "source": [
        "aZero=np.zeros((3,4))\n",
        "aZero"
      ],
      "metadata": {
        "colab": {
          "base_uri": "https://localhost:8080/"
        },
        "id": "nnL1SusulppP",
        "outputId": "91933e39-71b1-43c2-b1e3-23d7f891af28"
      },
      "execution_count": 32,
      "outputs": [
        {
          "output_type": "execute_result",
          "data": {
            "text/plain": [
              "array([[0., 0., 0., 0.],\n",
              "       [0., 0., 0., 0.],\n",
              "       [0., 0., 0., 0.]])"
            ]
          },
          "metadata": {},
          "execution_count": 32
        }
      ]
    },
    {
      "cell_type": "code",
      "source": [
        "print(np.arange(1,5))\n",
        "print(np.arange(1,5,2)) # jump by 2 everytime"
      ],
      "metadata": {
        "colab": {
          "base_uri": "https://localhost:8080/"
        },
        "id": "2OTxd1R6mFSB",
        "outputId": "e4b851f8-8f25-4174-aa22-b139f5fd2c4e"
      },
      "execution_count": 34,
      "outputs": [
        {
          "output_type": "stream",
          "name": "stdout",
          "text": [
            "[1 2 3 4]\n",
            "[1 3]\n"
          ]
        }
      ]
    },
    {
      "cell_type": "code",
      "source": [
        "ndarray.shape\n",
        "ndarray.reshape((2,3)) # Reshape the array into compatible dimensions; doesn't change original array"
      ],
      "metadata": {
        "colab": {
          "base_uri": "https://localhost:8080/"
        },
        "id": "u90bTKM7mpop",
        "outputId": "f410d091-2ef5-4ab4-d60f-a5cf618dcd84"
      },
      "execution_count": 35,
      "outputs": [
        {
          "output_type": "execute_result",
          "data": {
            "text/plain": [
              "array([[1, 2, 3],\n",
              "       [4, 5, 6]])"
            ]
          },
          "metadata": {},
          "execution_count": 35
        }
      ]
    },
    {
      "cell_type": "code",
      "source": [
        "print(ndarray.sum(axis=0)) # Sum along columns\n",
        "print(ndarray.sum(axis=1)) # Sum along rows"
      ],
      "metadata": {
        "colab": {
          "base_uri": "https://localhost:8080/"
        },
        "id": "IQ6MAwwunCfM",
        "outputId": "f77181d6-62ed-441b-fe3d-3ca5bba4b341"
      },
      "execution_count": 36,
      "outputs": [
        {
          "output_type": "stream",
          "name": "stdout",
          "text": [
            "[ 9 12]\n",
            "[ 3  7 11]\n"
          ]
        }
      ]
    },
    {
      "cell_type": "code",
      "source": [
        "arr = np.array([1,2,3,4])"
      ],
      "metadata": {
        "id": "WsseBmzQv-mj"
      },
      "execution_count": 37,
      "outputs": []
    },
    {
      "cell_type": "code",
      "source": [
        "print(arr[-1]) # print element from reverse\n",
        "print(arr[1:3])"
      ],
      "metadata": {
        "colab": {
          "base_uri": "https://localhost:8080/"
        },
        "id": "eFGIBZJWxUDF",
        "outputId": "2c27a6a6-ca75-489d-97ad-22defe0127bf"
      },
      "execution_count": 41,
      "outputs": [
        {
          "output_type": "stream",
          "name": "stdout",
          "text": [
            "4\n",
            "[2 3]\n"
          ]
        }
      ]
    },
    {
      "cell_type": "code",
      "source": [
        "print(ndarray[1,1])\n",
        "print(ndarray[0:2,1])\n",
        "print(ndarray[:,1])"
      ],
      "metadata": {
        "colab": {
          "base_uri": "https://localhost:8080/"
        },
        "id": "Qk-h737Gyk-a",
        "outputId": "f2fe3078-b509-4a66-d836-4a2d67aec1aa"
      },
      "execution_count": 45,
      "outputs": [
        {
          "output_type": "stream",
          "name": "stdout",
          "text": [
            "4\n",
            "[2 4]\n",
            "[2 4 6]\n"
          ]
        }
      ]
    },
    {
      "cell_type": "code",
      "source": [
        "print(np.vstack((ndarray,array2)))\n",
        "stackedArray=np.hstack((ndarray,array2))"
      ],
      "metadata": {
        "colab": {
          "base_uri": "https://localhost:8080/"
        },
        "id": "6_OR2l3CyuWa",
        "outputId": "dd46ee11-d2ac-4ff4-863b-56bb9a2726f6"
      },
      "execution_count": 49,
      "outputs": [
        {
          "output_type": "stream",
          "name": "stdout",
          "text": [
            "[[1 2]\n",
            " [3 4]\n",
            " [5 6]\n",
            " [1 2]\n",
            " [3 4]\n",
            " [5 6]]\n"
          ]
        }
      ]
    },
    {
      "cell_type": "code",
      "source": [
        "stackedArray"
      ],
      "metadata": {
        "colab": {
          "base_uri": "https://localhost:8080/"
        },
        "id": "Hl86amUqz4GB",
        "outputId": "a7e9ae90-46cd-4e47-93cd-d92296674b37"
      },
      "execution_count": 50,
      "outputs": [
        {
          "output_type": "execute_result",
          "data": {
            "text/plain": [
              "array([[1, 2, 1, 2],\n",
              "       [3, 4, 3, 4],\n",
              "       [5, 6, 5, 6]])"
            ]
          },
          "metadata": {},
          "execution_count": 50
        }
      ]
    },
    {
      "cell_type": "code",
      "source": [
        "np.hsplit(stackedArray,2)"
      ],
      "metadata": {
        "colab": {
          "base_uri": "https://localhost:8080/"
        },
        "id": "LFmIY1r5z5p9",
        "outputId": "1f897b49-8b9d-4278-c01b-f70b6fb5a48c"
      },
      "execution_count": 51,
      "outputs": [
        {
          "output_type": "execute_result",
          "data": {
            "text/plain": [
              "[array([[1, 2],\n",
              "        [3, 4],\n",
              "        [5, 6]]),\n",
              " array([[1, 2],\n",
              "        [3, 4],\n",
              "        [5, 6]])]"
            ]
          },
          "metadata": {},
          "execution_count": 51
        }
      ]
    },
    {
      "cell_type": "code",
      "source": [
        "for row in ndarray:\n",
        "  for col in row:\n",
        "    print(col)\n"
      ],
      "metadata": {
        "colab": {
          "base_uri": "https://localhost:8080/"
        },
        "id": "lvr9jQvE2q27",
        "outputId": "aec51d68-8583-4df5-b470-a002ed957184"
      },
      "execution_count": 52,
      "outputs": [
        {
          "output_type": "stream",
          "name": "stdout",
          "text": [
            "1\n",
            "2\n",
            "3\n",
            "4\n",
            "5\n",
            "6\n"
          ]
        }
      ]
    },
    {
      "cell_type": "code",
      "source": [
        "for x in np.nditer(ndarray,order='C'):\n",
        "  print(x)\n",
        "\n",
        "for x in np.nditer(ndarray,order='F',flags=['external_loop']):\n",
        "  print(x)"
      ],
      "metadata": {
        "colab": {
          "base_uri": "https://localhost:8080/"
        },
        "id": "mmyNocOY20Hh",
        "outputId": "22beba33-036b-4fd6-8b1d-37dee170da4b"
      },
      "execution_count": 56,
      "outputs": [
        {
          "output_type": "stream",
          "name": "stdout",
          "text": [
            "1\n",
            "2\n",
            "3\n",
            "4\n",
            "5\n",
            "6\n",
            "[1 3 5]\n",
            "[2 4 6]\n"
          ]
        }
      ]
    },
    {
      "cell_type": "code",
      "source": [
        "for x,y in np.nditer([ndarray,ndarrayF],order='C'):  # Iterate over array simultaneously\n",
        "  print(x,y)"
      ],
      "metadata": {
        "colab": {
          "base_uri": "https://localhost:8080/"
        },
        "id": "tsLcWY3y3gNz",
        "outputId": "3c9da069-20d8-4055-b9e5-32ee06941f59"
      },
      "execution_count": 57,
      "outputs": [
        {
          "output_type": "stream",
          "name": "stdout",
          "text": [
            "1 1.0\n",
            "2 2.0\n",
            "3 3.0\n",
            "4 4.0\n",
            "5 5.0\n",
            "6 6.0\n"
          ]
        }
      ]
    }
  ]
}