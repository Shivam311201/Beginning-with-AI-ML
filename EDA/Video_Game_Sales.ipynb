{
  "nbformat": 4,
  "nbformat_minor": 0,
  "metadata": {
    "colab": {
      "provenance": [],
      "authorship_tag": "ABX9TyMvOWit3WBQahmfQiJOIH4h",
      "include_colab_link": true
    },
    "kernelspec": {
      "name": "python3",
      "display_name": "Python 3"
    },
    "language_info": {
      "name": "python"
    }
  },
  "cells": [
    {
      "cell_type": "markdown",
      "metadata": {
        "id": "view-in-github",
        "colab_type": "text"
      },
      "source": [
        "<a href=\"https://colab.research.google.com/github/Shivam311201/Beginning-with-AI-ML/blob/master/EDA/Video_Game_Sales.ipynb\" target=\"_parent\"><img src=\"https://colab.research.google.com/assets/colab-badge.svg\" alt=\"Open In Colab\"/></a>"
      ]
    },
    {
      "cell_type": "code",
      "execution_count": 2,
      "metadata": {
        "id": "HNJAKiQMrv67"
      },
      "outputs": [],
      "source": [
        "import pandas as pd\n",
        "import numpy as np\n",
        "from matplotlib import pyplot as plt"
      ]
    },
    {
      "cell_type": "code",
      "source": [
        "df=pd.read_csv('/content/sample_data/vgsales.csv')\n",
        "df.head(100)"
      ],
      "metadata": {
        "colab": {
          "base_uri": "https://localhost:8080/",
          "height": 475
        },
        "id": "Hj8eaLJMr4DY",
        "outputId": "3687f7f3-589f-4d21-98b2-f95e9f58683f"
      },
      "execution_count": 3,
      "outputs": [
        {
          "output_type": "execute_result",
          "data": {
            "text/plain": [
              "    Rank                                    Name Platform    Year  \\\n",
              "0      1                              Wii Sports      Wii  2006.0   \n",
              "1      2                       Super Mario Bros.      NES  1985.0   \n",
              "2      3                          Mario Kart Wii      Wii  2008.0   \n",
              "3      4                       Wii Sports Resort      Wii  2009.0   \n",
              "4      5                Pokemon Red/Pokemon Blue       GB  1996.0   \n",
              "..   ...                                     ...      ...     ...   \n",
              "95    96  Crash Bandicoot 2: Cortex Strikes Back       PS  1997.0   \n",
              "96    97                     Super Mario Bros. 2      NES  1988.0   \n",
              "97    98     Super Smash Bros. for Wii U and 3DS      3DS  2014.0   \n",
              "98    99              Call of Duty: World at War     X360  2008.0   \n",
              "99   100                           Battlefield 3     X360  2011.0   \n",
              "\n",
              "           Genre                    Publisher  NA_Sales  EU_Sales  JP_Sales  \\\n",
              "0         Sports                     Nintendo     41.49     29.02      3.77   \n",
              "1       Platform                     Nintendo     29.08      3.58      6.81   \n",
              "2         Racing                     Nintendo     15.85     12.88      3.79   \n",
              "3         Sports                     Nintendo     15.75     11.01      3.28   \n",
              "4   Role-Playing                     Nintendo     11.27      8.89     10.22   \n",
              "..           ...                          ...       ...       ...       ...   \n",
              "95      Platform  Sony Computer Entertainment      3.78      2.17      1.31   \n",
              "96      Platform                     Nintendo      5.39      1.18      0.70   \n",
              "97      Fighting                     Nintendo      3.24      1.35      2.42   \n",
              "98       Shooter                   Activision      4.79      1.90      0.00   \n",
              "99       Shooter              Electronic Arts      4.46      2.13      0.06   \n",
              "\n",
              "    Other_Sales  Global_Sales  \n",
              "0          8.46         82.74  \n",
              "1          0.77         40.24  \n",
              "2          3.31         35.82  \n",
              "3          2.96         33.00  \n",
              "4          1.00         31.37  \n",
              "..          ...           ...  \n",
              "95         0.31          7.58  \n",
              "96         0.19          7.46  \n",
              "97         0.43          7.45  \n",
              "98         0.69          7.37  \n",
              "99         0.69          7.34  \n",
              "\n",
              "[100 rows x 11 columns]"
            ],
            "text/html": [
              "\n",
              "  <div id=\"df-59d79521-ca25-4983-9c7f-84eb2a7b4147\" class=\"colab-df-container\">\n",
              "    <div>\n",
              "<style scoped>\n",
              "    .dataframe tbody tr th:only-of-type {\n",
              "        vertical-align: middle;\n",
              "    }\n",
              "\n",
              "    .dataframe tbody tr th {\n",
              "        vertical-align: top;\n",
              "    }\n",
              "\n",
              "    .dataframe thead th {\n",
              "        text-align: right;\n",
              "    }\n",
              "</style>\n",
              "<table border=\"1\" class=\"dataframe\">\n",
              "  <thead>\n",
              "    <tr style=\"text-align: right;\">\n",
              "      <th></th>\n",
              "      <th>Rank</th>\n",
              "      <th>Name</th>\n",
              "      <th>Platform</th>\n",
              "      <th>Year</th>\n",
              "      <th>Genre</th>\n",
              "      <th>Publisher</th>\n",
              "      <th>NA_Sales</th>\n",
              "      <th>EU_Sales</th>\n",
              "      <th>JP_Sales</th>\n",
              "      <th>Other_Sales</th>\n",
              "      <th>Global_Sales</th>\n",
              "    </tr>\n",
              "  </thead>\n",
              "  <tbody>\n",
              "    <tr>\n",
              "      <th>0</th>\n",
              "      <td>1</td>\n",
              "      <td>Wii Sports</td>\n",
              "      <td>Wii</td>\n",
              "      <td>2006.0</td>\n",
              "      <td>Sports</td>\n",
              "      <td>Nintendo</td>\n",
              "      <td>41.49</td>\n",
              "      <td>29.02</td>\n",
              "      <td>3.77</td>\n",
              "      <td>8.46</td>\n",
              "      <td>82.74</td>\n",
              "    </tr>\n",
              "    <tr>\n",
              "      <th>1</th>\n",
              "      <td>2</td>\n",
              "      <td>Super Mario Bros.</td>\n",
              "      <td>NES</td>\n",
              "      <td>1985.0</td>\n",
              "      <td>Platform</td>\n",
              "      <td>Nintendo</td>\n",
              "      <td>29.08</td>\n",
              "      <td>3.58</td>\n",
              "      <td>6.81</td>\n",
              "      <td>0.77</td>\n",
              "      <td>40.24</td>\n",
              "    </tr>\n",
              "    <tr>\n",
              "      <th>2</th>\n",
              "      <td>3</td>\n",
              "      <td>Mario Kart Wii</td>\n",
              "      <td>Wii</td>\n",
              "      <td>2008.0</td>\n",
              "      <td>Racing</td>\n",
              "      <td>Nintendo</td>\n",
              "      <td>15.85</td>\n",
              "      <td>12.88</td>\n",
              "      <td>3.79</td>\n",
              "      <td>3.31</td>\n",
              "      <td>35.82</td>\n",
              "    </tr>\n",
              "    <tr>\n",
              "      <th>3</th>\n",
              "      <td>4</td>\n",
              "      <td>Wii Sports Resort</td>\n",
              "      <td>Wii</td>\n",
              "      <td>2009.0</td>\n",
              "      <td>Sports</td>\n",
              "      <td>Nintendo</td>\n",
              "      <td>15.75</td>\n",
              "      <td>11.01</td>\n",
              "      <td>3.28</td>\n",
              "      <td>2.96</td>\n",
              "      <td>33.00</td>\n",
              "    </tr>\n",
              "    <tr>\n",
              "      <th>4</th>\n",
              "      <td>5</td>\n",
              "      <td>Pokemon Red/Pokemon Blue</td>\n",
              "      <td>GB</td>\n",
              "      <td>1996.0</td>\n",
              "      <td>Role-Playing</td>\n",
              "      <td>Nintendo</td>\n",
              "      <td>11.27</td>\n",
              "      <td>8.89</td>\n",
              "      <td>10.22</td>\n",
              "      <td>1.00</td>\n",
              "      <td>31.37</td>\n",
              "    </tr>\n",
              "    <tr>\n",
              "      <th>...</th>\n",
              "      <td>...</td>\n",
              "      <td>...</td>\n",
              "      <td>...</td>\n",
              "      <td>...</td>\n",
              "      <td>...</td>\n",
              "      <td>...</td>\n",
              "      <td>...</td>\n",
              "      <td>...</td>\n",
              "      <td>...</td>\n",
              "      <td>...</td>\n",
              "      <td>...</td>\n",
              "    </tr>\n",
              "    <tr>\n",
              "      <th>95</th>\n",
              "      <td>96</td>\n",
              "      <td>Crash Bandicoot 2: Cortex Strikes Back</td>\n",
              "      <td>PS</td>\n",
              "      <td>1997.0</td>\n",
              "      <td>Platform</td>\n",
              "      <td>Sony Computer Entertainment</td>\n",
              "      <td>3.78</td>\n",
              "      <td>2.17</td>\n",
              "      <td>1.31</td>\n",
              "      <td>0.31</td>\n",
              "      <td>7.58</td>\n",
              "    </tr>\n",
              "    <tr>\n",
              "      <th>96</th>\n",
              "      <td>97</td>\n",
              "      <td>Super Mario Bros. 2</td>\n",
              "      <td>NES</td>\n",
              "      <td>1988.0</td>\n",
              "      <td>Platform</td>\n",
              "      <td>Nintendo</td>\n",
              "      <td>5.39</td>\n",
              "      <td>1.18</td>\n",
              "      <td>0.70</td>\n",
              "      <td>0.19</td>\n",
              "      <td>7.46</td>\n",
              "    </tr>\n",
              "    <tr>\n",
              "      <th>97</th>\n",
              "      <td>98</td>\n",
              "      <td>Super Smash Bros. for Wii U and 3DS</td>\n",
              "      <td>3DS</td>\n",
              "      <td>2014.0</td>\n",
              "      <td>Fighting</td>\n",
              "      <td>Nintendo</td>\n",
              "      <td>3.24</td>\n",
              "      <td>1.35</td>\n",
              "      <td>2.42</td>\n",
              "      <td>0.43</td>\n",
              "      <td>7.45</td>\n",
              "    </tr>\n",
              "    <tr>\n",
              "      <th>98</th>\n",
              "      <td>99</td>\n",
              "      <td>Call of Duty: World at War</td>\n",
              "      <td>X360</td>\n",
              "      <td>2008.0</td>\n",
              "      <td>Shooter</td>\n",
              "      <td>Activision</td>\n",
              "      <td>4.79</td>\n",
              "      <td>1.90</td>\n",
              "      <td>0.00</td>\n",
              "      <td>0.69</td>\n",
              "      <td>7.37</td>\n",
              "    </tr>\n",
              "    <tr>\n",
              "      <th>99</th>\n",
              "      <td>100</td>\n",
              "      <td>Battlefield 3</td>\n",
              "      <td>X360</td>\n",
              "      <td>2011.0</td>\n",
              "      <td>Shooter</td>\n",
              "      <td>Electronic Arts</td>\n",
              "      <td>4.46</td>\n",
              "      <td>2.13</td>\n",
              "      <td>0.06</td>\n",
              "      <td>0.69</td>\n",
              "      <td>7.34</td>\n",
              "    </tr>\n",
              "  </tbody>\n",
              "</table>\n",
              "<p>100 rows × 11 columns</p>\n",
              "</div>\n",
              "    <div class=\"colab-df-buttons\">\n",
              "\n",
              "  <div class=\"colab-df-container\">\n",
              "    <button class=\"colab-df-convert\" onclick=\"convertToInteractive('df-59d79521-ca25-4983-9c7f-84eb2a7b4147')\"\n",
              "            title=\"Convert this dataframe to an interactive table.\"\n",
              "            style=\"display:none;\">\n",
              "\n",
              "  <svg xmlns=\"http://www.w3.org/2000/svg\" height=\"24px\" viewBox=\"0 -960 960 960\">\n",
              "    <path d=\"M120-120v-720h720v720H120Zm60-500h600v-160H180v160Zm220 220h160v-160H400v160Zm0 220h160v-160H400v160ZM180-400h160v-160H180v160Zm440 0h160v-160H620v160ZM180-180h160v-160H180v160Zm440 0h160v-160H620v160Z\"/>\n",
              "  </svg>\n",
              "    </button>\n",
              "\n",
              "  <style>\n",
              "    .colab-df-container {\n",
              "      display:flex;\n",
              "      gap: 12px;\n",
              "    }\n",
              "\n",
              "    .colab-df-convert {\n",
              "      background-color: #E8F0FE;\n",
              "      border: none;\n",
              "      border-radius: 50%;\n",
              "      cursor: pointer;\n",
              "      display: none;\n",
              "      fill: #1967D2;\n",
              "      height: 32px;\n",
              "      padding: 0 0 0 0;\n",
              "      width: 32px;\n",
              "    }\n",
              "\n",
              "    .colab-df-convert:hover {\n",
              "      background-color: #E2EBFA;\n",
              "      box-shadow: 0px 1px 2px rgba(60, 64, 67, 0.3), 0px 1px 3px 1px rgba(60, 64, 67, 0.15);\n",
              "      fill: #174EA6;\n",
              "    }\n",
              "\n",
              "    .colab-df-buttons div {\n",
              "      margin-bottom: 4px;\n",
              "    }\n",
              "\n",
              "    [theme=dark] .colab-df-convert {\n",
              "      background-color: #3B4455;\n",
              "      fill: #D2E3FC;\n",
              "    }\n",
              "\n",
              "    [theme=dark] .colab-df-convert:hover {\n",
              "      background-color: #434B5C;\n",
              "      box-shadow: 0px 1px 3px 1px rgba(0, 0, 0, 0.15);\n",
              "      filter: drop-shadow(0px 1px 2px rgba(0, 0, 0, 0.3));\n",
              "      fill: #FFFFFF;\n",
              "    }\n",
              "  </style>\n",
              "\n",
              "    <script>\n",
              "      const buttonEl =\n",
              "        document.querySelector('#df-59d79521-ca25-4983-9c7f-84eb2a7b4147 button.colab-df-convert');\n",
              "      buttonEl.style.display =\n",
              "        google.colab.kernel.accessAllowed ? 'block' : 'none';\n",
              "\n",
              "      async function convertToInteractive(key) {\n",
              "        const element = document.querySelector('#df-59d79521-ca25-4983-9c7f-84eb2a7b4147');\n",
              "        const dataTable =\n",
              "          await google.colab.kernel.invokeFunction('convertToInteractive',\n",
              "                                                    [key], {});\n",
              "        if (!dataTable) return;\n",
              "\n",
              "        const docLinkHtml = 'Like what you see? Visit the ' +\n",
              "          '<a target=\"_blank\" href=https://colab.research.google.com/notebooks/data_table.ipynb>data table notebook</a>'\n",
              "          + ' to learn more about interactive tables.';\n",
              "        element.innerHTML = '';\n",
              "        dataTable['output_type'] = 'display_data';\n",
              "        await google.colab.output.renderOutput(dataTable, element);\n",
              "        const docLink = document.createElement('div');\n",
              "        docLink.innerHTML = docLinkHtml;\n",
              "        element.appendChild(docLink);\n",
              "      }\n",
              "    </script>\n",
              "  </div>\n",
              "\n",
              "\n",
              "<div id=\"df-bf4b151f-884e-405a-b110-fdf16a5bee8f\">\n",
              "  <button class=\"colab-df-quickchart\" onclick=\"quickchart('df-bf4b151f-884e-405a-b110-fdf16a5bee8f')\"\n",
              "            title=\"Suggest charts\"\n",
              "            style=\"display:none;\">\n",
              "\n",
              "<svg xmlns=\"http://www.w3.org/2000/svg\" height=\"24px\"viewBox=\"0 0 24 24\"\n",
              "     width=\"24px\">\n",
              "    <g>\n",
              "        <path d=\"M19 3H5c-1.1 0-2 .9-2 2v14c0 1.1.9 2 2 2h14c1.1 0 2-.9 2-2V5c0-1.1-.9-2-2-2zM9 17H7v-7h2v7zm4 0h-2V7h2v10zm4 0h-2v-4h2v4z\"/>\n",
              "    </g>\n",
              "</svg>\n",
              "  </button>\n",
              "\n",
              "<style>\n",
              "  .colab-df-quickchart {\n",
              "      --bg-color: #E8F0FE;\n",
              "      --fill-color: #1967D2;\n",
              "      --hover-bg-color: #E2EBFA;\n",
              "      --hover-fill-color: #174EA6;\n",
              "      --disabled-fill-color: #AAA;\n",
              "      --disabled-bg-color: #DDD;\n",
              "  }\n",
              "\n",
              "  [theme=dark] .colab-df-quickchart {\n",
              "      --bg-color: #3B4455;\n",
              "      --fill-color: #D2E3FC;\n",
              "      --hover-bg-color: #434B5C;\n",
              "      --hover-fill-color: #FFFFFF;\n",
              "      --disabled-bg-color: #3B4455;\n",
              "      --disabled-fill-color: #666;\n",
              "  }\n",
              "\n",
              "  .colab-df-quickchart {\n",
              "    background-color: var(--bg-color);\n",
              "    border: none;\n",
              "    border-radius: 50%;\n",
              "    cursor: pointer;\n",
              "    display: none;\n",
              "    fill: var(--fill-color);\n",
              "    height: 32px;\n",
              "    padding: 0;\n",
              "    width: 32px;\n",
              "  }\n",
              "\n",
              "  .colab-df-quickchart:hover {\n",
              "    background-color: var(--hover-bg-color);\n",
              "    box-shadow: 0 1px 2px rgba(60, 64, 67, 0.3), 0 1px 3px 1px rgba(60, 64, 67, 0.15);\n",
              "    fill: var(--button-hover-fill-color);\n",
              "  }\n",
              "\n",
              "  .colab-df-quickchart-complete:disabled,\n",
              "  .colab-df-quickchart-complete:disabled:hover {\n",
              "    background-color: var(--disabled-bg-color);\n",
              "    fill: var(--disabled-fill-color);\n",
              "    box-shadow: none;\n",
              "  }\n",
              "\n",
              "  .colab-df-spinner {\n",
              "    border: 2px solid var(--fill-color);\n",
              "    border-color: transparent;\n",
              "    border-bottom-color: var(--fill-color);\n",
              "    animation:\n",
              "      spin 1s steps(1) infinite;\n",
              "  }\n",
              "\n",
              "  @keyframes spin {\n",
              "    0% {\n",
              "      border-color: transparent;\n",
              "      border-bottom-color: var(--fill-color);\n",
              "      border-left-color: var(--fill-color);\n",
              "    }\n",
              "    20% {\n",
              "      border-color: transparent;\n",
              "      border-left-color: var(--fill-color);\n",
              "      border-top-color: var(--fill-color);\n",
              "    }\n",
              "    30% {\n",
              "      border-color: transparent;\n",
              "      border-left-color: var(--fill-color);\n",
              "      border-top-color: var(--fill-color);\n",
              "      border-right-color: var(--fill-color);\n",
              "    }\n",
              "    40% {\n",
              "      border-color: transparent;\n",
              "      border-right-color: var(--fill-color);\n",
              "      border-top-color: var(--fill-color);\n",
              "    }\n",
              "    60% {\n",
              "      border-color: transparent;\n",
              "      border-right-color: var(--fill-color);\n",
              "    }\n",
              "    80% {\n",
              "      border-color: transparent;\n",
              "      border-right-color: var(--fill-color);\n",
              "      border-bottom-color: var(--fill-color);\n",
              "    }\n",
              "    90% {\n",
              "      border-color: transparent;\n",
              "      border-bottom-color: var(--fill-color);\n",
              "    }\n",
              "  }\n",
              "</style>\n",
              "\n",
              "  <script>\n",
              "    async function quickchart(key) {\n",
              "      const quickchartButtonEl =\n",
              "        document.querySelector('#' + key + ' button');\n",
              "      quickchartButtonEl.disabled = true;  // To prevent multiple clicks.\n",
              "      quickchartButtonEl.classList.add('colab-df-spinner');\n",
              "      try {\n",
              "        const charts = await google.colab.kernel.invokeFunction(\n",
              "            'suggestCharts', [key], {});\n",
              "      } catch (error) {\n",
              "        console.error('Error during call to suggestCharts:', error);\n",
              "      }\n",
              "      quickchartButtonEl.classList.remove('colab-df-spinner');\n",
              "      quickchartButtonEl.classList.add('colab-df-quickchart-complete');\n",
              "    }\n",
              "    (() => {\n",
              "      let quickchartButtonEl =\n",
              "        document.querySelector('#df-bf4b151f-884e-405a-b110-fdf16a5bee8f button');\n",
              "      quickchartButtonEl.style.display =\n",
              "        google.colab.kernel.accessAllowed ? 'block' : 'none';\n",
              "    })();\n",
              "  </script>\n",
              "</div>\n",
              "\n",
              "    </div>\n",
              "  </div>\n"
            ],
            "application/vnd.google.colaboratory.intrinsic+json": {
              "type": "dataframe",
              "variable_name": "df",
              "summary": "{\n  \"name\": \"df\",\n  \"rows\": 16598,\n  \"fields\": [\n    {\n      \"column\": \"Rank\",\n      \"properties\": {\n        \"dtype\": \"number\",\n        \"std\": 4791,\n        \"min\": 1,\n        \"max\": 16600,\n        \"num_unique_values\": 16598,\n        \"samples\": [\n          8930,\n          4791,\n          15495\n        ],\n        \"semantic_type\": \"\",\n        \"description\": \"\"\n      }\n    },\n    {\n      \"column\": \"Name\",\n      \"properties\": {\n        \"dtype\": \"string\",\n        \"num_unique_values\": 11493,\n        \"samples\": [\n          \"Close Combat: First to Fight\",\n          \"Rock 'N Roll Racing\",\n          \"Hakuouki\"\n        ],\n        \"semantic_type\": \"\",\n        \"description\": \"\"\n      }\n    },\n    {\n      \"column\": \"Platform\",\n      \"properties\": {\n        \"dtype\": \"category\",\n        \"num_unique_values\": 31,\n        \"samples\": [\n          \"TG16\",\n          \"2600\",\n          \"SAT\"\n        ],\n        \"semantic_type\": \"\",\n        \"description\": \"\"\n      }\n    },\n    {\n      \"column\": \"Year\",\n      \"properties\": {\n        \"dtype\": \"number\",\n        \"std\": 5.828981114712805,\n        \"min\": 1980.0,\n        \"max\": 2020.0,\n        \"num_unique_values\": 39,\n        \"samples\": [\n          1981.0,\n          1983.0,\n          1996.0\n        ],\n        \"semantic_type\": \"\",\n        \"description\": \"\"\n      }\n    },\n    {\n      \"column\": \"Genre\",\n      \"properties\": {\n        \"dtype\": \"category\",\n        \"num_unique_values\": 12,\n        \"samples\": [\n          \"Adventure\",\n          \"Fighting\",\n          \"Sports\"\n        ],\n        \"semantic_type\": \"\",\n        \"description\": \"\"\n      }\n    },\n    {\n      \"column\": \"Publisher\",\n      \"properties\": {\n        \"dtype\": \"category\",\n        \"num_unique_values\": 578,\n        \"samples\": [\n          \"JoWood Productions\",\n          \"Takuyo\",\n          \"Kamui\"\n        ],\n        \"semantic_type\": \"\",\n        \"description\": \"\"\n      }\n    },\n    {\n      \"column\": \"NA_Sales\",\n      \"properties\": {\n        \"dtype\": \"number\",\n        \"std\": 0.8166830292988796,\n        \"min\": 0.0,\n        \"max\": 41.49,\n        \"num_unique_values\": 409,\n        \"samples\": [\n          1.7,\n          2.97,\n          3.92\n        ],\n        \"semantic_type\": \"\",\n        \"description\": \"\"\n      }\n    },\n    {\n      \"column\": \"EU_Sales\",\n      \"properties\": {\n        \"dtype\": \"number\",\n        \"std\": 0.5053512312869116,\n        \"min\": 0.0,\n        \"max\": 29.02,\n        \"num_unique_values\": 305,\n        \"samples\": [\n          1.15,\n          0.98,\n          2.25\n        ],\n        \"semantic_type\": \"\",\n        \"description\": \"\"\n      }\n    },\n    {\n      \"column\": \"JP_Sales\",\n      \"properties\": {\n        \"dtype\": \"number\",\n        \"std\": 0.30929064808220297,\n        \"min\": 0.0,\n        \"max\": 10.22,\n        \"num_unique_values\": 244,\n        \"samples\": [\n          0.47,\n          6.5,\n          2.1\n        ],\n        \"semantic_type\": \"\",\n        \"description\": \"\"\n      }\n    },\n    {\n      \"column\": \"Other_Sales\",\n      \"properties\": {\n        \"dtype\": \"number\",\n        \"std\": 0.18858840291271461,\n        \"min\": 0.0,\n        \"max\": 10.57,\n        \"num_unique_values\": 157,\n        \"samples\": [\n          0.38,\n          0.23,\n          0.48\n        ],\n        \"semantic_type\": \"\",\n        \"description\": \"\"\n      }\n    },\n    {\n      \"column\": \"Global_Sales\",\n      \"properties\": {\n        \"dtype\": \"number\",\n        \"std\": 1.5550279355699124,\n        \"min\": 0.01,\n        \"max\": 82.74,\n        \"num_unique_values\": 623,\n        \"samples\": [\n          3.91,\n          0.65,\n          5.11\n        ],\n        \"semantic_type\": \"\",\n        \"description\": \"\"\n      }\n    }\n  ]\n}"
            }
          },
          "metadata": {},
          "execution_count": 3
        }
      ]
    },
    {
      "cell_type": "code",
      "source": [
        "df['Platform'].value_counts()"
      ],
      "metadata": {
        "colab": {
          "base_uri": "https://localhost:8080/"
        },
        "id": "Gcd9Rmm0sKz0",
        "outputId": "0758ed08-7a1a-4236-dc9a-b9dd5dcddb08"
      },
      "execution_count": 5,
      "outputs": [
        {
          "output_type": "execute_result",
          "data": {
            "text/plain": [
              "DS      2163\n",
              "PS2     2161\n",
              "PS3     1329\n",
              "Wii     1325\n",
              "X360    1265\n",
              "PSP     1213\n",
              "PS      1196\n",
              "PC       960\n",
              "XB       824\n",
              "GBA      822\n",
              "GC       556\n",
              "3DS      509\n",
              "PSV      413\n",
              "PS4      336\n",
              "N64      319\n",
              "SNES     239\n",
              "XOne     213\n",
              "SAT      173\n",
              "WiiU     143\n",
              "2600     133\n",
              "NES       98\n",
              "GB        98\n",
              "DC        52\n",
              "GEN       27\n",
              "NG        12\n",
              "SCD        6\n",
              "WS         6\n",
              "3DO        3\n",
              "TG16       2\n",
              "GG         1\n",
              "PCFX       1\n",
              "Name: Platform, dtype: int64"
            ]
          },
          "metadata": {},
          "execution_count": 5
        }
      ]
    },
    {
      "cell_type": "code",
      "source": [
        "df['Publisher'].value_counts()"
      ],
      "metadata": {
        "colab": {
          "base_uri": "https://localhost:8080/"
        },
        "id": "ez3IXXOGsYdU",
        "outputId": "5fc3bc21-3808-472c-a5f0-2bc409a3eeae"
      },
      "execution_count": 7,
      "outputs": [
        {
          "output_type": "execute_result",
          "data": {
            "text/plain": [
              "Electronic Arts                 1351\n",
              "Activision                       975\n",
              "Namco Bandai Games               932\n",
              "Ubisoft                          921\n",
              "Konami Digital Entertainment     832\n",
              "                                ... \n",
              "Warp                               1\n",
              "New                                1\n",
              "Elite                              1\n",
              "Evolution Games                    1\n",
              "UIG Entertainment                  1\n",
              "Name: Publisher, Length: 578, dtype: int64"
            ]
          },
          "metadata": {},
          "execution_count": 7
        }
      ]
    },
    {
      "cell_type": "code",
      "source": [
        "plt.scatter(x=df['Rank'], y=df['NA_Sales'],s=8,c='Red')\n",
        "plt.scatter(x=df['Rank'], y=df['EU_Sales'],s=8,c='Green')\n",
        "plt.scatter(x=df['Rank'], y=df['JP_Sales'],s=8,c='Blue')\n",
        "plt.scatter(x=df['Rank'], y=df['Global_Sales'],s=8,c='Yellow')\n",
        "\n",
        "plt.ylim(0,40)\n",
        "plt.locator_params(axis='y', nbins=20)  # Adjust the number of intervals as needed\n",
        "plt.show()\n"
      ],
      "metadata": {
        "colab": {
          "base_uri": "https://localhost:8080/",
          "height": 452
        },
        "id": "urawHpmKsuao",
        "outputId": "f5b354e1-5bfa-42d8-d226-58152cae1890"
      },
      "execution_count": 36,
      "outputs": [
        {
          "output_type": "display_data",
          "data": {
            "text/plain": [
              "<Figure size 640x480 with 1 Axes>"
            ],
            "image/png": "[encoded data removed]"
          },
          "metadata": {}
        },
        {
          "output_type": "display_data",
          "data": {
            "text/plain": [
              "<Figure size 5000x10000 with 0 Axes>"
            ]
          },
          "metadata": {}
        }
      ]
    },
    {
      "cell_type": "code",
      "source": [
        "df_platform=df.groupby('Platform')\n",
        "df_platform.value_counts()"
      ],
      "metadata": {
        "colab": {
          "base_uri": "https://localhost:8080/"
        },
        "id": "wHTarOO7u_rd",
        "outputId": "ab0c1b5e-6005-492e-baec-5ff5a4833669"
      },
      "execution_count": 14,
      "outputs": [
        {
          "output_type": "execute_result",
          "data": {
            "text/plain": [
              "Platform  Rank   Name                                  Year    Genre     Publisher                               NA_Sales  EU_Sales  JP_Sales  Other_Sales  Global_Sales\n",
              "2600      90     Pac-Man                               1982.0  Puzzle    Atari                                   7.28      0.45      0.00      0.08         7.81            1\n",
              "          240    Pitfall!                              1981.0  Platform  Activision                              4.21      0.24      0.00      0.05         4.50            1\n",
              "          3718   Action Force                          1982.0  Action    CPG Products                            0.50      0.03      0.00      0.01         0.54            1\n",
              "          2808   Berzerk                               1981.0  Shooter   Atari                                   0.68      0.04      0.00      0.01         0.73            1\n",
              "          2845   Kangaroo                              1982.0  Platform  Atari                                   0.67      0.04      0.00      0.01         0.72            1\n",
              "                                                                                                                                                                           ..\n",
              "XOne      2556   Dying Light                           2015.0  Action    Warner Bros. Interactive Entertainment  0.43      0.30      0.01      0.07         0.81            1\n",
              "          2665   Madden NFL 25                         2013.0  Sports    Electronic Arts                         0.67      0.05      0.00      0.05         0.77            1\n",
              "          2731   Rare Replay                           2015.0  Misc      Microsoft Game Studios                  0.47      0.21      0.01      0.07         0.75            1\n",
              "          2896   Metal Gear Solid V: The Phantom Pain  2015.0  Action    Konami Digital Entertainment            0.37      0.26      0.01      0.06         0.71            1\n",
              "          16579  Rugby Challenge 3                     2016.0  Sports    Alternative Software                    0.00      0.01      0.00      0.00         0.01            1\n",
              "Length: 16291, dtype: int64"
            ]
          },
          "metadata": {},
          "execution_count": 14
        }
      ]
    },
    {
      "cell_type": "code",
      "source": [
        "df['Platform'].value_counts().plot(kind='bar',stacked=True)"
      ],
      "metadata": {
        "colab": {
          "base_uri": "https://localhost:8080/",
          "height": 470
        },
        "id": "PZ3B45P8yEk1",
        "outputId": "f3c83b40-0c82-4dfe-d8fb-1f0a616e4409"
      },
      "execution_count": 15,
      "outputs": [
        {
          "output_type": "execute_result",
          "data": {
            "text/plain": [
              "<Axes: >"
            ]
          },
          "metadata": {},
          "execution_count": 15
        },
        {
          "output_type": "display_data",
          "data": {
            "text/plain": [
              "<Figure size 640x480 with 1 Axes>"
            ],
            "image/png": "[encoded data removed]"
          },
          "metadata": {}
        }
      ]
    },
    {
      "cell_type": "code",
      "source": [
        "pd.crosstab(df['Platform'],df['Genre']).plot(kind='bar',stacked=True)"
      ],
      "metadata": {
        "colab": {
          "base_uri": "https://localhost:8080/",
          "height": 489
        },
        "id": "5B1Rxjed0pJy",
        "outputId": "b490887c-880f-433f-9766-b085e203e3ac"
      },
      "execution_count": 18,
      "outputs": [
        {
          "output_type": "execute_result",
          "data": {
            "text/plain": [
              "<Axes: xlabel='Platform'>"
            ]
          },
          "metadata": {},
          "execution_count": 18
        },
        {
          "output_type": "display_data",
          "data": {
            "text/plain": [
              "<Figure size 640x480 with 1 Axes>"
            ],
            "image/png": "[encoded data removed]"
          },
          "metadata": {}
        }
      ]
    }
  ]
}